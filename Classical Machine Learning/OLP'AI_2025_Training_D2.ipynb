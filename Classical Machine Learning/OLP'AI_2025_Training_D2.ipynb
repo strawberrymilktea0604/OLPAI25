{
  "nbformat": 4,
  "nbformat_minor": 0,
  "metadata": {
    "colab": {
      "provenance": [],
      "gpuType": "T4"
    },
    "kernelspec": {
      "name": "python3",
      "display_name": "Python 3"
    },
    "language_info": {
      "name": "python"
    },
    "accelerator": "GPU"
  },
  "cells": [
    {
      "cell_type": "code",
      "execution_count": null,
      "metadata": {
        "colab": {
          "base_uri": "https://localhost:8080/"
        },
        "id": "K7H1Ndfo8VJQ",
        "outputId": "56cd7f45-8567-4709-8c40-fff01597e858"
      },
      "outputs": [
        {
          "output_type": "stream",
          "name": "stdout",
          "text": [
            "   feature1  feature2  feature3  feature4  feature5  Authenticated\n",
            "0  0.599758  0.012166  0.209270  1.087926  4.088241              0\n",
            "1 -5.512324 -0.426576 -0.092336  0.501431  3.844389              0\n",
            "2 -3.387749  2.786477  0.195597  1.540859  4.148680              0\n",
            "3 -4.690195 -1.024081 -0.101571  0.981619  3.712296              0\n",
            "4  7.990252  0.398343 -0.302286  1.309536  3.870292              0\n"
          ]
        }
      ],
      "source": [
        "import pandas as pd\n",
        "df = pd.read_csv(\"/content/training_set.csv\")\n",
        "print(df.head())"
      ]
    },
    {
      "cell_type": "code",
      "source": [
        "from sklearn.model_selection import train_test_split, GridSearchCV\n",
        "from sklearn.preprocessing import StandardScaler\n",
        "from sklearn.linear_model import LogisticRegression\n",
        "from sklearn.tree import DecisionTreeClassifier\n",
        "from sklearn.ensemble import RandomForestClassifier, GradientBoostingClassifier\n",
        "from sklearn.neighbors import KNeighborsClassifier\n",
        "from sklearn.svm import SVC\n",
        "from sklearn.naive_bayes import GaussianNB\n",
        "from sklearn.metrics import (\n",
        "    make_scorer, accuracy_score, precision_score, recall_score, f1_score, roc_auc_score\n",
        ")\n",
        "import warnings\n",
        "warnings.filterwarnings(\"ignore\")"
      ],
      "metadata": {
        "id": "zvjiB5jW9pvy"
      },
      "execution_count": null,
      "outputs": []
    },
    {
      "cell_type": "code",
      "source": [
        "X = df[[\"feature1\", \"feature2\", \"feature3\", \"feature4\", \"feature5\"]]\n",
        "y = df['Authenticated']"
      ],
      "metadata": {
        "id": "9hM7wbTz9uwe"
      },
      "execution_count": null,
      "outputs": []
    },
    {
      "cell_type": "code",
      "source": [
        "X_train, X_test, y_train, y_test = train_test_split(X, y, test_size=0.2, random_state=42)\n",
        "scaler = StandardScaler()\n",
        "X_train = scaler.fit_transform(X_train)\n",
        "X_test = scaler.transform(X_test)"
      ],
      "metadata": {
        "id": "u1KHkBYr-Men"
      },
      "execution_count": null,
      "outputs": []
    },
    {
      "cell_type": "code",
      "source": [
        "models = {\n",
        "    \"Logistic Regression\": (LogisticRegression(max_iter=1000), {\n",
        "        \"C\": [0.1, 1, 10],\n",
        "        \"solver\": [\"lbfgs\"]\n",
        "    }),\n",
        "    \"Decision Tree\": (DecisionTreeClassifier(), {\n",
        "        \"max_depth\": [None, 5, 10],\n",
        "        \"min_samples_split\": [2, 5]\n",
        "    }),\n",
        "    \"Random Forest\": (RandomForestClassifier(), {\n",
        "        \"n_estimators\": [100, 200],\n",
        "        \"max_depth\": [None, 10],\n",
        "    }),\n",
        "    \"Gradient Boosting\": (GradientBoostingClassifier(), {\n",
        "        \"n_estimators\": [100, 200],\n",
        "        \"learning_rate\": [0.05, 0.1],\n",
        "        \"max_depth\": [3, 5]\n",
        "    }),\n",
        "    \"KNN\": (KNeighborsClassifier(), {\n",
        "        \"n_neighbors\": [3, 5, 7],\n",
        "        \"weights\": [\"uniform\", \"distance\"]\n",
        "    }),\n",
        "    \"SVM\": (SVC(probability=True), {\n",
        "        \"C\": [0.1, 1, 10],\n",
        "        \"kernel\": [\"linear\", \"rbf\"]\n",
        "    }),\n",
        "    \"Naive Bayes\": (GaussianNB(), {})\n",
        "}"
      ],
      "metadata": {
        "id": "XtB77yDq_8ak"
      },
      "execution_count": null,
      "outputs": []
    },
    {
      "cell_type": "code",
      "source": [
        "scoring = {\n",
        "    \"accuracy\": make_scorer(accuracy_score),\n",
        "    \"precision\": make_scorer(precision_score, average=\"macro\"),\n",
        "    \"recall\": make_scorer(recall_score, average=\"macro\"),\n",
        "    \"f1\": make_scorer(f1_score, average=\"macro\"),\n",
        "    \"roc_auc\": make_scorer(roc_auc_score, average=\"macro\", needs_proba=True),\n",
        "}"
      ],
      "metadata": {
        "id": "Kkx4yu4eAAQp"
      },
      "execution_count": null,
      "outputs": []
    },
    {
      "cell_type": "code",
      "source": [
        "results = []\n",
        "\n",
        "for name, (model, params) in models.items():\n",
        "    model.fit(X_train, y_train)\n",
        "\n",
        "    print(f\"\\n Đang chạy GridSearch cho {name}...\")\n",
        "    y_pred = model.predict(X_test)\n",
        "    grid = GridSearchCV(\n",
        "        estimator=model,\n",
        "        param_grid=params,\n",
        "        scoring=scoring,\n",
        "        refit=\"f1\",\n",
        "        cv=5,\n",
        "        n_jobs=-1,\n",
        "        verbose=0\n",
        "    )\n",
        "\n",
        "    grid.fit(X_train, y_train)\n",
        "    best_model = grid.best_estimator_\n",
        "    y_pred = best_model.predict(X_test)\n",
        "    if hasattr(model, \"predict_proba\"):\n",
        "            y_proba = model.predict_proba(X_test)[:, 1]\n",
        "    elif hasattr(model, \"decision_function\"):\n",
        "            y_proba = model.decision_function(X_test)\n",
        "    else:\n",
        "            y_proba = None\n",
        "    acc = accuracy_score(y_test, y_pred)\n",
        "    prec = precision_score(y_test, y_pred, average=\"macro\")\n",
        "    rec = recall_score(y_test, y_pred, average=\"macro\")\n",
        "    f1 = f1_score(y_test, y_pred, average=\"macro\")\n",
        "\n",
        "    if y_proba is not None:\n",
        "      try:\n",
        "        roc = roc_auc_score(y_test, y_proba)\n",
        "      except ValueError:\n",
        "        roc = None\n",
        "    else:\n",
        "        roc = None\n",
        "\n",
        "    results.append({\n",
        "        \"Model\": name,\n",
        "        \"Best Params\": grid.best_params_,\n",
        "        \"CV Best f1\": grid.best_score_,\n",
        "        \"Accuracy\": acc,\n",
        "        \"Precision\": prec,\n",
        "        \"Recall\": rec,\n",
        "        \"F1\": f1,\n",
        "        \"ROC_AUC\": roc\n",
        "    })"
      ],
      "metadata": {
        "colab": {
          "base_uri": "https://localhost:8080/"
        },
        "id": "v1S5b1jOADvx",
        "outputId": "75ed24a1-c6ac-41f5-b4ec-871d012330af"
      },
      "execution_count": null,
      "outputs": [
        {
          "output_type": "stream",
          "name": "stdout",
          "text": [
            "\n",
            " Đang chạy GridSearch cho Logistic Regression...\n",
            "\n",
            " Đang chạy GridSearch cho Decision Tree...\n",
            "\n",
            " Đang chạy GridSearch cho Random Forest...\n",
            "\n",
            " Đang chạy GridSearch cho Gradient Boosting...\n",
            "\n",
            " Đang chạy GridSearch cho KNN...\n",
            "\n",
            " Đang chạy GridSearch cho SVM...\n",
            "\n",
            " Đang chạy GridSearch cho Naive Bayes...\n"
          ]
        }
      ]
    },
    {
      "cell_type": "code",
      "source": [
        "results_df = pd.DataFrame(results)\n",
        "print(results_df.sort_values(by=\"F1\", ascending=False))"
      ],
      "metadata": {
        "id": "0PPQZU_LCKNg",
        "outputId": "a2551561-5e43-41f6-ce1f-6033a9a4f08c",
        "colab": {
          "base_uri": "https://localhost:8080/"
        }
      },
      "execution_count": null,
      "outputs": [
        {
          "output_type": "stream",
          "name": "stdout",
          "text": [
            "                 Model                                        Best Params  \\\n",
            "0  Logistic Regression                      {'C': 0.1, 'solver': 'lbfgs'}   \n",
            "1        Decision Tree        {'max_depth': None, 'min_samples_split': 5}   \n",
            "2        Random Forest           {'max_depth': None, 'n_estimators': 100}   \n",
            "3    Gradient Boosting  {'learning_rate': 0.05, 'max_depth': 3, 'n_est...   \n",
            "4                  KNN           {'n_neighbors': 3, 'weights': 'uniform'}   \n",
            "5                  SVM                     {'C': 0.1, 'kernel': 'linear'}   \n",
            "6          Naive Bayes                                                 {}   \n",
            "\n",
            "   CV Best f1  Accuracy  Precision    Recall        F1 ROC_AUC  \n",
            "0    0.798742      0.98   0.326667  0.333333  0.329966    None  \n",
            "1    0.698113      0.98   0.326667  0.333333  0.329966    None  \n",
            "2    0.798742      0.98   0.326667  0.333333  0.329966    None  \n",
            "3    0.698113      0.98   0.326667  0.333333  0.329966    None  \n",
            "4    0.798742      0.98   0.326667  0.333333  0.329966    None  \n",
            "5    0.798742      0.98   0.326667  0.333333  0.329966    None  \n",
            "6    0.798742      0.98   0.326667  0.333333  0.329966    None  \n"
          ]
        }
      ]
    }
  ]
}